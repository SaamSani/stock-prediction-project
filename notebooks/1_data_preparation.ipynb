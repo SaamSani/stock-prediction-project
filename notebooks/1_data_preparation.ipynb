{
 "cells": [
  {
   "cell_type": "code",
   "execution_count": null,
   "id": "fef5b2a1-2998-47aa-8ffd-9184b65a85a7",
   "metadata": {},
   "outputs": [],
   "source": [
    "import yfinance as yf  # For stock data\n",
    "import pandas as pd     \n",
    "import numpy as np      \n",
    "import ta               # Technical Analysis indicators\n",
    "import matplotlib.pyplot as plt  \n",
    "from tqdm import tqdm\n",
    "\n"
   ]
  },
  {
   "cell_type": "code",
   "execution_count": null,
   "id": "305c903b-1836-43e5-bfec-640dd355b8b2",
   "metadata": {},
   "outputs": [],
   "source": [
    "import requests\n",
    "import io\n",
    "\n",
    "# NasdaqTrader.com provides live daily lists of all stocks\n",
    "url = \"ftp://ftp.nasdaqtrader.com/SymbolDirectory/nasdaqlisted.txt\"\n",
    "\n",
    "# Download the data\n",
    "response = requests.get(\"https://www.nasdaqtrader.com/dynamic/SymDir/nasdaqlisted.txt\")\n",
    "\n",
    "# Clean up the text data\n",
    "data = response.content.decode('utf-8').split('\\n')\n",
    "\n",
    "# Read into pandas (skip the last footer row)\n",
    "nasdaq_data = pd.read_csv(io.StringIO('\\n'.join(data[:-1])), sep='|')\n",
    "\n",
    "# Get the tickers\n",
    "nasdaq_tickers = nasdaq_data['Symbol'].to_list()\n",
    "\n",
    "print(f\"NASDAQ tickers found: {len(nasdaq_tickers)}\")\n",
    "\n"
   ]
  },
  {
   "cell_type": "code",
   "execution_count": null,
   "id": "c29130f6-3d86-460e-97a0-d5cc6cc57ae7",
   "metadata": {},
   "outputs": [],
   "source": [
    "# Get NYSE tickers too\n",
    "response_nyse = requests.get(\"https://www.nasdaqtrader.com/dynamic/SymDir/otherlisted.txt\")\n",
    "data_nyse = response_nyse.content.decode('utf-8').split('\\n')\n",
    "\n",
    "nyse_data = pd.read_csv(io.StringIO('\\n'.join(data_nyse[:-1])), sep='|')\n",
    "nyse_tickers = nyse_data['ACT Symbol'].to_list()\n",
    "\n",
    "print(f\"NYSE tickers found: {len(nyse_tickers)}\")\n"
   ]
  },
  {
   "cell_type": "code",
   "execution_count": null,
   "id": "30de1fe4-6a4e-4a21-9ace-2c5b47595e87",
   "metadata": {},
   "outputs": [],
   "source": [
    "# Combine both lists and remove duplicates\n",
    "all_tickers = list(set(nasdaq_tickers + nyse_tickers))\n",
    "\n",
    "print(f\"Total unique live tickers: {len(all_tickers)}\")\n"
   ]
  },
  {
   "cell_type": "code",
   "execution_count": null,
   "id": "33559b61-3ae0-4570-9eb8-3641c319c557",
   "metadata": {},
   "outputs": [],
   "source": [
    "# Remove any non-string tickers (NaN, numbers, etc.)\n",
    "clean_tickers = [ticker for ticker in all_tickers if isinstance(ticker, str)]\n",
    "\n",
    "# Now filter out tickers with suffixes\n",
    "filtered_tickers = [ticker for ticker in clean_tickers if '.' not in ticker]\n",
    "\n",
    "print(f\"Tickers after removing suffixes: {len(filtered_tickers)}\")\n"
   ]
  },
  {
   "cell_type": "code",
   "execution_count": null,
   "id": "2161255c-679f-4caa-85d4-5abf73a542e9",
   "metadata": {},
   "outputs": [],
   "source": [
    "# Create empty list to hold final tickers\n",
    "final_tickers = []\n",
    "\n",
    "print(\"Checking prices to remove penny stocks...\")\n",
    "\n",
    "for ticker in tqdm(filtered_tickers):\n",
    "    try:\n",
    "        price = yf.Ticker(ticker).history(period=\"1d\")['Close'].iloc[-1]\n",
    "        if price >= 1:  # Keep only stocks priced $1 or more\n",
    "            final_tickers.append(ticker)\n",
    "    except:\n",
    "        pass  # If data is missing or error occurs, skip the ticker\n",
    "\n",
    "print(f\"Tickers after removing penny stocks: {len(final_tickers)}\")\n",
    "print(final_tickers[:10])\n"
   ]
  },
  {
   "cell_type": "code",
   "execution_count": null,
   "id": "8df5a8b4-fd20-46fa-bbcb-f85531e52734",
   "metadata": {},
   "outputs": [],
   "source": [
    "pd.Series(final_tickers).to_csv(\"/Users/saamsani/Desktop/CMPT /stock_prediction_project/data/final_tickers.csv\", index=False)\n",
    "\n",
    "print(\"Saved final tickers to final_tickers.csv.\")"
   ]
  },
  {
   "cell_type": "code",
   "execution_count": null,
   "id": "f5ab928b-f618-4e7b-bed7-87374bd8453c",
   "metadata": {},
   "outputs": [],
   "source": [
    "import os\n",
    "\n",
    "# Load tickers back from your CSV\n",
    "final_tickers = pd.read_csv(\"/Users/saamsani/Desktop/CMPT /stock_prediction_project/data/final_tickers.csv\", header=None)[0].tolist()\n",
    "print(f\"Tickers loaded: {len(final_tickers)}\")\n",
    "\n",
    "# Make sure the save folder exists\n",
    "data_folder = \"/Users/saamsani/Desktop/CMPT /stock_prediction_project/data/stock_data\"\n",
    "os.makedirs(data_folder, exist_ok=True)\n",
    "\n",
    "print(\"Pulling 90 days of price data and saving for each ticker...\")\n",
    "\n",
    "# Loop through each ticker and download/save data\n",
    "for ticker in tqdm(final_tickers):\n",
    "    try:\n",
    "        save_path = f\"{data_folder}/{ticker}.csv\"\n",
    "\n",
    "        # If this ticker's CSV already exists, skip it\n",
    "        if os.path.exists(save_path):\n",
    "            continue\n",
    "\n",
    "        # Download 90 days of data\n",
    "        df = yf.download(ticker, period=\"90d\")\n",
    "\n",
    "        # Only save if there are at least 30 days of data\n",
    "        if len(df) >= 30:\n",
    "            df['Ticker'] = ticker\n",
    "            df.to_csv(save_path)\n",
    "    except Exception as e:\n",
    "        print(f\"Failed to get data for {ticker}: {e}\")\n"
   ]
  },
  {
   "cell_type": "code",
   "execution_count": null,
   "id": "63113f84-4ba2-4775-9316-9efd5c8a0d66",
   "metadata": {},
   "outputs": [],
   "source": []
  }
 ],
 "metadata": {
  "kernelspec": {
   "display_name": "Python 3 (ipykernel)",
   "language": "python",
   "name": "python3"
  },
  "language_info": {
   "codemirror_mode": {
    "name": "ipython",
    "version": 3
   },
   "file_extension": ".py",
   "mimetype": "text/x-python",
   "name": "python",
   "nbconvert_exporter": "python",
   "pygments_lexer": "ipython3",
   "version": "3.12.7"
  }
 },
 "nbformat": 4,
 "nbformat_minor": 5
}
