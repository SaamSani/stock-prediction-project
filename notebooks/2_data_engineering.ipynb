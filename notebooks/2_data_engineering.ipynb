{
 "cells": [
  {
   "cell_type": "code",
   "execution_count": null,
   "id": "4c2373cd-e8b5-4817-bdf5-16207674f0c2",
   "metadata": {},
   "outputs": [],
   "source": [
    "import os\n",
    "import pandas as pd\n",
    "import numpy as np\n",
    "from tqdm import tqdm\n",
    "import ta  \n"
   ]
  },
  {
   "cell_type": "code",
   "execution_count": null,
   "id": "63fc6509-de66-4348-b908-0d92eea27634",
   "metadata": {},
   "outputs": [],
   "source": [
    "data_folder = \"/Users/saamsani/Desktop/CMPT /stock_prediction_project/data/stock_data\"\n",
    "all_files = os.listdir(data_folder)\n",
    "\n",
    "stock_dfs = []\n",
    "\n",
    "print(\"Loading all stock CSVs and adding Ticker column...\")\n",
    "\n",
    "for file in tqdm(all_files):\n",
    "    try:\n",
    "        file_path = os.path.join(data_folder, file)\n",
    "        df = pd.read_csv(file_path)\n",
    "        if len(df) >= 30:\n",
    "            ticker = file.replace(\".csv\", \"\")   \n",
    "            df[\"Ticker\"] = ticker               \n",
    "            stock_dfs.append(df)\n",
    "    except Exception as e:\n",
    "        print(f\"Failed to load {file}: {e}\")\n"
   ]
  },
  {
   "cell_type": "code",
   "execution_count": null,
   "id": "784bee3b-be56-419d-95b7-d5801512e19c",
   "metadata": {},
   "outputs": [],
   "source": [
    "combined_df = pd.concat(stock_dfs)\n",
    "combined_df.reset_index(drop=True, inplace=True)\n",
    "\n",
    "print(\"Combined data shape:\", combined_df.shape)\n",
    "\n"
   ]
  },
  {
   "cell_type": "code",
   "execution_count": null,
   "id": "d56d691c-72c2-4402-9d1a-48a4dc07b66d",
   "metadata": {},
   "outputs": [],
   "source": [
    "df = combined_df.copy()\n",
    "\n",
    "# Fix incorrect column name (messed up from last notebook)\n",
    "df.rename(columns={'Price': 'Date'}, inplace=True)\n",
    "# Remove any rows where the 'Date' column is not a real date string (e.g. 'Date', 'Ticker', NaN, etc.)\n",
    "df = df[df['Date'].str.match(r'^\\d{4}-\\d{2}-\\d{2}$', na=False)]\n",
    "\n",
    "# Make sure Date is in datetime format and sort the data\n",
    "df['Date'] = pd.to_datetime(df['Date'])\n",
    "df.sort_values(by=['Ticker', 'Date'], inplace=True)\n",
    "\n",
    "# Convert key price/volume columns to numbers\n",
    "cols_to_fix = ['Open', 'High', 'Low', 'Close', 'Volume']\n",
    "for col in cols_to_fix:\n",
    "    df[col] = pd.to_numeric(df[col], errors='coerce')\n",
    "\n",
    "\n",
    "print(\"Adding technical indicators...\")\n",
    "\n",
    "# Add indicators from the 'ta' (technical analysis) library\n",
    "\n",
    "df['SMA_10'] = ta.trend.sma_indicator(df['Close'], window=10)  \n",
    "# 10-day Simple Moving Average — smooths price trends using equal weight on last 10 days\n",
    "\n",
    "df['EMA_10'] = ta.trend.ema_indicator(df['Close'], window=10)  \n",
    "# 10-day Exponential Moving Average — similar to SMA but gives more weight to recent prices\n",
    "\n",
    "df['RSI_14'] = ta.momentum.rsi(df['Close'], window=14)  \n",
    "# Relative Strength Index (14 days) — momentum indicator (0–100) to show overbought/oversold\n",
    "\n",
    "df['ATR_14'] = ta.volatility.average_true_range(df['High'], df['Low'], df['Close'], window=14)  \n",
    "# Average True Range (14 days) — measures daily volatility by looking at high/low/close ranges\n",
    "\n",
    "# Remove any rows with missing values from indicator calculations\n",
    "df.dropna(inplace=True)\n",
    "\n",
    "print(\"Data shape after adding indicators:\", df.shape)\n",
    "df.head()\n"
   ]
  },
  {
   "cell_type": "code",
   "execution_count": null,
   "id": "6f637afd-0772-4ea5-b740-d038913e2d39",
   "metadata": {},
   "outputs": [],
   "source": [
    "# Target_A: 1 if price goes UP tomorrow, 0 if DOWN or SAME\n",
    "df['Target_A'] = df.groupby('Ticker')['Close'].shift(-1) > df['Close']\n",
    "df['Target_A'] = df['Target_A'].astype(int)\n",
    "\n"
   ]
  },
  {
   "cell_type": "code",
   "execution_count": null,
   "id": "09fba7d0-af04-44cd-8a0b-405016992f57",
   "metadata": {
    "scrolled": true
   },
   "outputs": [],
   "source": [
    "# Target_B: 1 if a breakout as a 10%+ rise in the next 3 days' highs, if not\n",
    "future_high = (\n",
    "    df.groupby('Ticker')['High']\n",
    "    .transform(lambda x: x.shift(-1).rolling(3).max())\n",
    ")\n",
    "\n",
    "df['Target_B'] = (future_high >= df['Close'] * 1.10).astype(int)\n",
    "\n"
   ]
  },
  {
   "cell_type": "code",
   "execution_count": null,
   "id": "4981dbee-74dd-4214-b709-b0aa2ab75d1f",
   "metadata": {},
   "outputs": [],
   "source": [
    "# Target_C: 1 if price is higher in 5 days, else 0\n",
    "df['Target_C'] = (\n",
    "    df.groupby('Ticker')['Close']\n",
    "    .transform(lambda x: x.shift(-5) > x)\n",
    ").astype(int)\n",
    "\n",
    "print(df[['Date', 'Ticker', 'Close', 'Target_C']].head())\n"
   ]
  },
  {
   "cell_type": "code",
   "execution_count": null,
   "id": "26727719-d41b-4a6d-b7a4-d4fa0f47c297",
   "metadata": {},
   "outputs": [],
   "source": [
    "# Drop rows with missing values in indicators or any of the targets\n",
    "df.dropna(subset=[\n",
    "    'SMA_10', 'EMA_10', 'RSI_14', 'ATR_14',\n",
    "    'Target_A', 'Target_B', 'Target_C'\n",
    "], inplace=True)\n",
    "\n",
    "print(\"Final shape after dropping NaNs:\", df.shape)\n"
   ]
  },
  {
   "cell_type": "code",
   "execution_count": null,
   "id": "35af67f6-9ca5-46b4-baf9-85bdd6e4222f",
   "metadata": {},
   "outputs": [],
   "source": [
    "# Savefor model training\n",
    "df.to_csv(\"/Users/saamsani/Desktop/CMPT /stock_prediction_project/data/engineered_stock_data.csv\", index=False)\n"
   ]
  },
  {
   "cell_type": "code",
   "execution_count": null,
   "id": "c4847daa-a5c3-4d09-9d90-f85e881172b1",
   "metadata": {},
   "outputs": [],
   "source": []
  }
 ],
 "metadata": {
  "kernelspec": {
   "display_name": "Python 3 (ipykernel)",
   "language": "python",
   "name": "python3"
  },
  "language_info": {
   "codemirror_mode": {
    "name": "ipython",
    "version": 3
   },
   "file_extension": ".py",
   "mimetype": "text/x-python",
   "name": "python",
   "nbconvert_exporter": "python",
   "pygments_lexer": "ipython3",
   "version": "3.12.7"
  }
 },
 "nbformat": 4,
 "nbformat_minor": 5
}
